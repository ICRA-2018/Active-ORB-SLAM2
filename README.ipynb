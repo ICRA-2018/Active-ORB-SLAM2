{
 "cells": [
  {
   "cell_type": "markdown",
   "metadata": {},
   "source": [
    "# Active-ORB-SLAM2\n",
    "**Authors: ORB SLAM 2** [Raul Mur-Artal](http://webdiis.unizar.es/~raulmur/), [Juan D. Tardos](http://webdiis.unizar.es/~jdtardos/), [J. M. M. Montiel](http://webdiis.unizar.es/~josemari/) and [Dorian Galvez-Lopez](http://doriangalvez.com/) ([DBoW2](https://github.com/dorian3d/DBoW2))\n",
    "\n",
    "**Authors: Active ORB SLAM 2** Xinke Deng, Zixu Zhang, Avishai Sintov, Jing Huang, and Timothy Bretl\n",
    "\n",
    "#1. Prerequisites\n",
    "We have tested the library in **14.04** with ROS indigo. A powerful computer (e.g. i7) will ensure real-time performance and provide more stable and accurate results.\n",
    "\n",
    "## C++11 or C++0x Compiler\n",
    "We use the new thread and chrono functionalities of C++11.\n",
    "\n",
    "## Pangolin\n",
    "We use [Pangolin](https://github.com/stevenlovegrove/Pangolin) for visualization and user interface. Dowload and install instructions can be found at: https://github.com/stevenlovegrove/Pangolin.\n",
    "\n",
    "## OpenCV\n",
    "We use [OpenCV](http://opencv.org) to manipulate images and features. Dowload and install instructions can be found at: http://opencv.org. **Required at leat 2.4.3. Tested with OpenCV 2.4.11 and OpenCV 3.2**.\n",
    "\n",
    "## Eigen3\n",
    "Required by g2o (see below). Download and install instructions can be found at: http://eigen.tuxfamily.org. **Required at least 3.1.0**.\n",
    "\n",
    "## DBoW2 and g2o (Included in Thirdparty folder)\n",
    "We use modified versions of the [DBoW2](https://github.com/dorian3d/DBoW2) library to perform place recognition and [g2o](https://github.com/RainerKuemmerle/g2o) library to perform non-linear optimizations. Both modified libraries (which are BSD) are included in the *Thirdparty* folder.\n",
    "\n",
    "## ROS \n",
    "ROS indigo is required [ros](http://wiki.ros.org/indigo/Installation/Ubuntu).\n",
    "\n",
    "## OctoMap\n",
    "OctoMap is required [octomap](https://github.com/OctoMap/octomap)\n",
    "\n",
    "## OMPL is required\n",
    "OMPL is required [OMPL](http://ompl.kavrakilab.org/download.html)\n",
    "\n",
    "#2. Building Active-ORB-SLAM2 library\n",
    "\n",
    "Clone the repository:"
   ]
  },
  {
   "cell_type": "code",
   "execution_count": null,
   "metadata": {},
   "outputs": [],
   "source": [
    "git clone https://github.com/XinkeAE/Actuve-ORB-SLAM2.git"
   ]
  },
  {
   "cell_type": "code",
   "execution_count": null,
   "metadata": {},
   "outputs": [],
   "source": [
    "cd Active-ORB-SLAM2\n",
    "chmod +x build.sh\n",
    "./build.sh"
   ]
  },
  {
   "cell_type": "markdown",
   "metadata": {},
   "source": [
    "This will create **libORB_SLAM2.so**  at *lib* folder and the executables **mono_tum**, **mono_kitti**, **rgbd_tum**, **stereo_kitti**, **mono_euroc** and **stereo_euroc** in *Examples* folder.\n",
    "\n",
    "#3. Building ROS"
   ]
  },
  {
   "cell_type": "code",
   "execution_count": null,
   "metadata": {},
   "outputs": [],
   "source": [
    "chmod +x build_ros.sh\n",
    "./build_ros.sh"
   ]
  },
  {
   "cell_type": "markdown",
   "metadata": {},
   "source": [
    "#4. Specify the goal pose in planning.cc and system.cc\n",
    "changing line 265 - 268 in system.cc\n",
    "\n",
    "#5. Run ros driver by running the script"
   ]
  },
  {
   "cell_type": "code",
   "execution_count": null,
   "metadata": {},
   "outputs": [],
   "source": [
    "./kinect.sh"
   ]
  }
 ],

 "metadata": {
  "kernelspec": {
   "display_name": "Bash",
   "language": "bash",
   "name": "bash"
  },
  "language_info": {
   "codemirror_mode": "shell",
   "file_extension": ".sh",
   "mimetype": "text/x-sh",
   "name": "bash"
  }
 },
 "nbformat": 4,
 "nbformat_minor": 2
}
